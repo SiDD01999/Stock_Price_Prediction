import yfinance as yf
import pandas as pd
import matplotlib.pyplot as plt

# Download the data
data = yf.download('AAPL', start='2015-01-01', end='2023-01-01')

# Exploratory Data Analysis (EDA)
# Plot the closing price
plt.figure(figsize=(14, 7))
plt.plot(data['Close'])
plt.title('AAPL Closing Price')
plt.xlabel('Date')
plt.ylabel('Close Price')
plt.show()

# Moving Averages
data['SMA_50'] = data['Close'].rolling(window=50).mean()
data['SMA_200'] = data['Close'].rolling(window=200).mean()

# Plot Moving Averages
plt.figure(figsize=(14, 7))
plt.plot(data['Close'], label='Close Price')
plt.plot(data['SMA_50'], label='50-Day SMA')
plt.plot(data['SMA_200'], label='200-Day SMA')
plt.title('AAPL Closing Price and Moving Averages')
plt.xlabel('Date')
plt.ylabel('Price')
plt.legend()
plt.show()
